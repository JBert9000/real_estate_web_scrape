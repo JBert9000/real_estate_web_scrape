{
 "cells": [
  {
   "cell_type": "code",
   "execution_count": 1,
   "metadata": {
    "collapsed": true
   },
   "outputs": [],
   "source": [
    "import requests\n",
    "from bs4 import BeautifulSoup\n",
    "\n",
    "r=requests.get(\"http://www.toronto-realestate.biz/Condominiums?io_search=1&p=335&io_oh=&io_for_sale=on&io_for_lease=&io_location=Church-Yonge+Corridor&io_price_min=50000&io_price_max=900000&io_beds_min=1&io_baths_min=1&io_c=on&io_dir=asc\")\n",
    "c=r.content\n",
    "\n",
    "soup=BeautifulSoup(c,\"html.parser\")\n",
    "all=soup.find_all(\"div\",{\"class\":\"ld_preview_block\"})\n",
    "\n",
    "all\n",
    "\n",
    "all[0]\n",
    "\n",
    "price=all[0].find(\"span\",{\"class\":\"just\"}).text\n",
    "price"
   ]
  },
  {
   "cell_type": "code",
   "execution_count": null,
   "metadata": {
    "collapsed": true
   },
   "outputs": [],
   "source": [
    "\n",
    "    "
   ]
  }
 ],
 "metadata": {
  "kernelspec": {
   "display_name": "Python 3",
   "language": "python",
   "name": "python3"
  },
  "language_info": {
   "codemirror_mode": {
    "name": "ipython",
    "version": 3
   },
   "file_extension": ".py",
   "mimetype": "text/x-python",
   "name": "python",
   "nbconvert_exporter": "python",
   "pygments_lexer": "ipython3",
   "version": "3.6.3"
  }
 },
 "nbformat": 4,
 "nbformat_minor": 2
}
