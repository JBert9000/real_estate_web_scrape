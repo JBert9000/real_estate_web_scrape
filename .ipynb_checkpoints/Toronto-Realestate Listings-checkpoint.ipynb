{
 "cells": [
  {
   "cell_type": "code",
   "execution_count": 1,
   "metadata": {},
   "outputs": [
    {
     "data": {
      "text/plain": [
       "'$399,900'"
      ]
     },
     "execution_count": 1,
     "metadata": {},
     "output_type": "execute_result"
    }
   ],
   "source": [
    "import requests\n",
    "from bs4 import BeautifulSoup\n",
    "\n",
    "r=requests.get(\"http://www.toronto-realestate.biz/Condominiums?io_search=1&p=335&io_oh=&io_for_sale=on&io_for_lease=&io_location=Church-Yonge+Corridor&io_price_min=50000&io_price_max=900000&io_beds_min=1&io_baths_min=1&io_c=on&io_dir=asc\")\n",
    "c=r.content\n",
    "\n",
    "soup=BeautifulSoup(c,\"html.parser\")\n",
    "all=soup.find_all(\"div\",{\"class\":\"ld_preview_block\"})\n",
    "\n",
    "all\n",
    "\n",
    "all[0]\n",
    "\n",
    "price=all[0].find(\"span\",{\"class\":\"just\"}).text\n",
    "price\n"
   ]
  },
  {
   "cell_type": "code",
   "execution_count": 8,
   "metadata": {
    "collapsed": true
   },
   "outputs": [],
   "source": [
    "l=[]\n",
    "for item in all:\n",
    "    d={}\n",
    "    price=item.find(\"span\",{\"class\":\"just\"}).text\n",
    "#     print(\"Price: \"+price)\n",
    "    d[\"Price\"]=price\n",
    "    pinfo=item.find(\"div\",{\"class\":\"ld_list_pinfo\"})\n",
    "    \n",
    "#     i=1\n",
    "#     while i < len(pinfo.contents):\n",
    "#         if i==1:\n",
    "#             print(\"Location: \"+pinfo.contents[i].text)\n",
    "#             i+=1\n",
    "#         elif i==2:\n",
    "#             print(\"Type of unit: \"+pinfo.contents[i].string)\n",
    "#             i+=1\n",
    "#         else:\n",
    "#             print(pinfo.contents[i].string)\n",
    "#             i+=1\n",
    "    i=1\n",
    "    while i < len(pinfo.contents):\n",
    "        if i==1:\n",
    "            d[\"Location\"]=pinfo.contents[i].text\n",
    "            i+=1\n",
    "        elif i==2:\n",
    "            d[\"Type of Unit\"]=pinfo.contents[i].string\n",
    "            i+=1\n",
    "        elif i==3:\n",
    "            d[\"Sq ft\"]=pinfo.contents[i].string\n",
    "            i+=1\n",
    "        else:\n",
    "            i==4\n",
    "            d[\"Taxes\"]=pinfo.contents[i].string\n",
    "            i+=1\n",
    "            \n",
    "    \n",
    "    \n",
    "#     try:\n",
    "#         print(item.find(\"div\",{\"class\":\"ld_list_beds\"}).string)\n",
    "#     except:\n",
    "#         print(None)\n",
    "\n",
    "    d[\"Beds\"]=item.find(\"div\",{\"class\":\"ld_list_beds\"}).string.replace(\"\\t\",\"\").replace(\"\\r\",\"\").replace(\"\\n\",\"\")\n",
    "\n",
    "#     list_options=item.find(\"div\",{\"class\":\"ld_list_options\"})\n",
    "    for list_options in item.find(\"div\",{\"class\":\"ld_list_options\"}).find_all(\"li\"):\n",
    "        if \"Details\" in list_options.text:\n",
    "            a=list_options.find(\"a\",href=True)\n",
    "#             print(\"link: http://www.toronto-realestate.biz/\"+a['href'])\n",
    "            d[\"link\"]=\"http://www.toronto-realestate.biz/\"+a['href']\n",
    "    \n",
    "            \n",
    "#     print(\" \")\n",
    "    l.append(d)"
   ]
  },
  {
   "cell_type": "code",
   "execution_count": 9,
   "metadata": {},
   "outputs": [
    {
     "data": {
      "text/plain": [
       "[{'Beds': 'Beds: 1, Baths: 1',\n",
       "  'Location': 'Church/Carlton In The Village',\n",
       "  'Price': '$399,900',\n",
       "  'Sq ft': 'Approx 0-499 sq ft',\n",
       "  'Taxes': ' ',\n",
       "  'Type of Unit': 'Condominium',\n",
       "  'link': 'http://www.toronto-realestate.biz//listings/2492683-toronto-ontario-c4499595'},\n",
       " {'Beds': 'Beds: 1, Baths: 1',\n",
       "  'Location': 'Jarvis & Bloor',\n",
       "  'Price': '$469,900',\n",
       "  'Sq ft': 'Approx 500-599 sq ft',\n",
       "  'Taxes': ' ',\n",
       "  'Type of Unit': 'Condominium',\n",
       "  'link': 'http://www.toronto-realestate.biz//listings/2491409-toronto-ontario-c4497535'},\n",
       " {'Beds': 'Beds: 1, Baths: 1',\n",
       "  'Location': 'Yonge/Wellesley',\n",
       "  'Price': '$499,000',\n",
       "  'Sq ft': 'Approx 0-499 sq ft',\n",
       "  'Taxes': ' ',\n",
       "  'Type of Unit': 'Condominium',\n",
       "  'link': 'http://www.toronto-realestate.biz//listings/2481846-toronto-ontario-c4481070'},\n",
       " {'Beds': 'Beds: 1, Baths: 1',\n",
       "  'Location': 'Yonge & Wellesley',\n",
       "  'Price': '$510,000',\n",
       "  'Sq ft': 'Approx 600-699 sq ft',\n",
       "  'Taxes': ' ',\n",
       "  'Type of Unit': 'Condominium',\n",
       "  'link': 'http://www.toronto-realestate.biz//listings/2490543-toronto-ontario-c4495931'},\n",
       " {'Beds': 'Beds: 1 + 1, Baths: 1',\n",
       "  'Location': 'Church-Yonge Corridor Toronto',\n",
       "  'Price': '$519,900',\n",
       "  'Sq ft': 'Approx 500-599 sq ft',\n",
       "  'Taxes': ' ',\n",
       "  'Type of Unit': 'Condominium',\n",
       "  'link': 'http://www.toronto-realestate.biz//listings/2485768-toronto-ontario-c4477438'},\n",
       " {'Beds': 'Beds: 1, Baths: 1',\n",
       "  'Location': 'Church St / Shuter St',\n",
       "  'Price': '$529,000',\n",
       "  'Sq ft': 'Approx 500-599 sq ft',\n",
       "  'Taxes': ' ',\n",
       "  'Type of Unit': 'Condominium',\n",
       "  'link': 'http://www.toronto-realestate.biz//listings/2485839-toronto-ontario-c4489253'},\n",
       " {'Beds': 'Beds: 1, Baths: 1',\n",
       "  'Location': 'Yonge / Bloor',\n",
       "  'Price': '$530,000',\n",
       "  'Sq ft': 'Approx 500-599 sq ft',\n",
       "  'Taxes': ' ',\n",
       "  'Type of Unit': 'Condominium',\n",
       "  'link': 'http://www.toronto-realestate.biz//listings/2490667-toronto-ontario-c4496206'},\n",
       " {'Beds': 'Beds: 2, Baths: 1',\n",
       "  'Location': 'Church & Gerrard',\n",
       "  'Price': '$550,000',\n",
       "  'Sq ft': 'Approx 800-899 sq ft',\n",
       "  'Taxes': ' ',\n",
       "  'Type of Unit': 'Condominium',\n",
       "  'link': 'http://www.toronto-realestate.biz//listings/2492103-toronto-ontario-c4498678'},\n",
       " {'Beds': 'Beds: 1, Baths: 1',\n",
       "  'Location': 'Yonge St & Dundas Street',\n",
       "  'Price': '$555,000',\n",
       "  'Sq ft': 'Approx 500-599 sq ft',\n",
       "  'Taxes': ' ',\n",
       "  'Type of Unit': 'Condominium',\n",
       "  'link': 'http://www.toronto-realestate.biz//listings/2439034-toronto-ontario-c4408662'},\n",
       " {'Beds': 'Beds: 1, Baths: 1',\n",
       "  'Location': 'King/Yonge',\n",
       "  'Price': '$568,000',\n",
       "  'Sq ft': 'Approx 600-699 sq ft',\n",
       "  'Taxes': ' ',\n",
       "  'Type of Unit': 'Condominium',\n",
       "  'link': 'http://www.toronto-realestate.biz//listings/2442399-toronto-ontario-c4414299'}]"
      ]
     },
     "execution_count": 9,
     "metadata": {},
     "output_type": "execute_result"
    }
   ],
   "source": [
    "l"
   ]
  },
  {
   "cell_type": "code",
   "execution_count": null,
   "metadata": {
    "collapsed": true
   },
   "outputs": [],
   "source": []
  }
 ],
 "metadata": {
  "kernelspec": {
   "display_name": "Python 3",
   "language": "python",
   "name": "python3"
  },
  "language_info": {
   "codemirror_mode": {
    "name": "ipython",
    "version": 3
   },
   "file_extension": ".py",
   "mimetype": "text/x-python",
   "name": "python",
   "nbconvert_exporter": "python",
   "pygments_lexer": "ipython3",
   "version": "3.6.3"
  }
 },
 "nbformat": 4,
 "nbformat_minor": 2
}
