{
 "cells": [
  {
   "cell_type": "code",
   "execution_count": 1,
   "metadata": {},
   "outputs": [
    {
     "data": {
      "text/plain": [
       "'$499,000'"
      ]
     },
     "execution_count": 1,
     "metadata": {},
     "output_type": "execute_result"
    }
   ],
   "source": [
    "import requests\n",
    "from bs4 import BeautifulSoup\n",
    "\n",
    "r=requests.get(\"http://www.toronto-realestate.biz/Condominiums?io_search=1&p=335&io_oh=&io_for_sale=on&io_for_lease=&io_location=Church-Yonge+Corridor&io_price_min=50000&io_price_max=900000&io_beds_min=1&io_baths_min=1&io_c=on&io_dir=asc\")\n",
    "c=r.content\n",
    "\n",
    "soup=BeautifulSoup(c,\"html.parser\")\n",
    "all=soup.find_all(\"div\",{\"class\":\"ld_preview_block\"})\n",
    "\n",
    "all\n",
    "\n",
    "all[0]\n",
    "\n",
    "price=all[0].find(\"span\",{\"class\":\"just\"}).text\n",
    "price"
   ]
  },
  {
   "cell_type": "code",
   "execution_count": null,
   "metadata": {},
   "outputs": [
    {
     "name": "stdout",
     "output_type": "stream",
     "text": [
      "$499,000\n"
     ]
    }
   ],
   "source": [
    "for item in all:\n",
    "    print(item.find(\"span\",{\"class\":\"just\"}).text)\n",
    "    pinfo=item.find(\"div\",{\"class\":\"ld_list_pinfo\"})\n",
    "    \n",
    "    i=1\n",
    "    while i < len(pinfo.contents):\n",
    "        if i==1:\n",
    "            print(\"Location: \"+pinfo.contents[1].text)\n",
    "            i+=1\n",
    "            continue\n",
    "        elif i>1:\n",
    "            print(pinfo.contents[i].string)\n",
    "            \n",
    "    try:\n",
    "        print(item.find(\"div\",{\"class\":\"ld_list_beds\"}).string)\n",
    "    except:\n",
    "        print(None)\n",
    "\n",
    "#     list_options=item.find(\"div\",{\"class\":\"ld_list_options\"})\n",
    "    for list_options in item.find(\"div\",{\"class\":\"ld_list_options\"}).find_all(\"li\"):\n",
    "        if \"Details\" in list_options.text:\n",
    "            a=list_options.find(\"a\",href=True)\n",
    "            print(\"link: http://www.toronto-realestate.biz/\"+a['href'])\n",
    "            \n",
    "    print(\" \")\n",
    "    "
   ]
  },
  {
   "cell_type": "code",
   "execution_count": null,
   "metadata": {
    "collapsed": true
   },
   "outputs": [],
   "source": []
  }
 ],
 "metadata": {
  "kernelspec": {
   "display_name": "Python 3",
   "language": "python",
   "name": "python3"
  },
  "language_info": {
   "codemirror_mode": {
    "name": "ipython",
    "version": 3
   },
   "file_extension": ".py",
   "mimetype": "text/x-python",
   "name": "python",
   "nbconvert_exporter": "python",
   "pygments_lexer": "ipython3",
   "version": "3.6.3"
  }
 },
 "nbformat": 4,
 "nbformat_minor": 2
}
