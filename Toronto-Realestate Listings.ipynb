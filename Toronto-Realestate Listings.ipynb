{
 "cells": [
  {
   "cell_type": "code",
   "execution_count": 3,
   "metadata": {},
   "outputs": [
    {
     "data": {
      "text/plain": [
       "'$499,000'"
      ]
     },
     "execution_count": 3,
     "metadata": {},
     "output_type": "execute_result"
    }
   ],
   "source": [
    "import requests\n",
    "from bs4 import BeautifulSoup\n",
    "\n",
    "r=requests.get(\"http://www.toronto-realestate.biz/Condominiums?io_search=1&p=335&io_oh=&io_for_sale=on&io_for_lease=&io_location=Church-Yonge+Corridor&io_price_min=50000&io_price_max=900000&io_beds_min=1&io_baths_min=1&io_c=on&io_dir=asc\")\n",
    "c=r.content\n",
    "\n",
    "soup=BeautifulSoup(c,\"html.parser\")\n",
    "all=soup.find_all(\"div\",{\"class\":\"ld_preview_block\"})\n",
    "\n",
    "all\n",
    "\n",
    "all[0]\n",
    "\n",
    "price=all[0].find(\"span\",{\"class\":\"just\"}).text\n",
    "price"
   ]
  },
  {
   "cell_type": "code",
   "execution_count": 94,
   "metadata": {},
   "outputs": [
    {
     "name": "stdout",
     "output_type": "stream",
     "text": [
      "$499,000\n",
      "Yonge/Wellesley\n",
      "Condominium\n",
      "Approx 0-499 sq ft\n",
      "Taxes  (2018) : $ 1,884\n",
      " \n",
      "$519,000\n",
      "Yonge & Wellesley\n",
      "Condominium\n",
      "Approx 600-699 sq ft\n",
      "Taxes  (2018) : $ 1,869\n",
      " \n",
      "$519,900\n",
      "Church-Yonge Corridor Toronto\n",
      "Condominium\n",
      "Approx 500-599 sq ft\n",
      "Taxes  (2020) : $ 2,020\n",
      " \n",
      "$529,000\n",
      "Church St / Shuter St\n",
      "Condominium\n",
      "Approx 500-599 sq ft\n",
      "Taxes  (2019) : $ 2,137\n",
      " \n",
      "$529,900\n",
      "Queen St & Jarvis\n",
      "Condominium\n",
      "Approx 600-699 sq ft\n",
      "Taxes  (2018) : $ 1,999\n",
      " \n",
      "$548,900\n",
      "Yonge/Wellesley\n",
      "Condominium\n",
      "Approx 500-599 sq ft\n",
      "Taxes  (2018) : $ 1,684\n",
      " \n",
      "$555,000\n",
      "Yonge St & Dundas Street\n",
      "Condominium\n",
      "Approx 500-599 sq ft\n",
      "Taxes  (2018) : $ 2,034\n",
      " \n",
      "$568,000\n",
      "King/Yonge\n",
      "Condominium\n",
      "Approx 600-699 sq ft\n",
      "Taxes  (2018) : $ 2,784\n",
      " \n",
      "$579,900\n",
      "Yonge / Wellesley\n",
      "Condominium\n",
      "Approx 0-499 sq ft\n",
      " \n",
      "$597,900\n",
      "Yonge/Dundas\n",
      "Condominium\n",
      "Approx 500-599 sq ft\n",
      "Taxes  (2018) : $ 2,034\n",
      " \n"
     ]
    }
   ],
   "source": [
    "for item in all:\n",
    "    print(item.find(\"span\",{\"class\":\"just\"}).text)\n",
    "    # print(item.find(\"div\",{\"class\":\"ld_list_beds\"}).text.replace(\" \",\"\"))\n",
    "    pinfo=item.find(\"div\",{\"class\":\"ld_list_pinfo\"})\n",
    "    i=1\n",
    "    while i < len(pinfo.contents):\n",
    "        print(pinfo.contents[i].string)\n",
    "        i+=1"
   ]
  },
  {
   "cell_type": "code",
   "execution_count": 19,
   "metadata": {},
   "outputs": [
    {
     "ename": "IndentationError",
     "evalue": "unexpected indent (<ipython-input-19-0f1cc3585311>, line 2)",
     "output_type": "error",
     "traceback": [
      "\u001b[0;36m  File \u001b[0;32m\"<ipython-input-19-0f1cc3585311>\"\u001b[0;36m, line \u001b[0;32m2\u001b[0m\n\u001b[0;31m    print(item.find(\"div\",{\"class\":\"ld_list_options\"}).text)\u001b[0m\n\u001b[0m    ^\u001b[0m\n\u001b[0;31mIndentationError\u001b[0m\u001b[0;31m:\u001b[0m unexpected indent\n"
     ]
    }
   ],
   "source": [
    "print(item.find(\"div\",{\"class\":\"ld_list_pinfo\"}).text)\n",
    "    print(item.find(\"div\",{\"class\":\"ld_list_options\"}).text)\n",
    "    print(item.find(\"div\",{\"class\":\"ld_list_social\"}).text)"
   ]
  },
  {
   "cell_type": "code",
   "execution_count": null,
   "metadata": {
    "collapsed": true
   },
   "outputs": [],
   "source": []
  }
 ],
 "metadata": {
  "kernelspec": {
   "display_name": "Python 3",
   "language": "python",
   "name": "python3"
  },
  "language_info": {
   "codemirror_mode": {
    "name": "ipython",
    "version": 3
   },
   "file_extension": ".py",
   "mimetype": "text/x-python",
   "name": "python",
   "nbconvert_exporter": "python",
   "pygments_lexer": "ipython3",
   "version": "3.6.3"
  }
 },
 "nbformat": 4,
 "nbformat_minor": 2
}
